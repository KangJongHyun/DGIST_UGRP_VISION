{
 "cells": [
  {
   "cell_type": "code",
   "execution_count": 1,
   "metadata": {},
   "outputs": [],
   "source": [
    "import torch\n",
    "import torch.nn as nn\n",
    "import torchvision\n",
    "import torchvision.transforms as transforms"
   ]
  },
  {
   "cell_type": "code",
   "execution_count": 2,
   "metadata": {},
   "outputs": [],
   "source": [
    "\n",
    "# Define the CNN architecture\n",
    "class CNN(nn.Module):\n",
    "    def __init__(self, num_classes):\n",
    "        super(CNN, self).__init__()\n",
    "        \n",
    "        self.features = nn.Sequential(\n",
    "            nn.Conv2d(3, 16, kernel_size=3, stride=1, padding=1),\n",
    "            nn.ReLU(),\n",
    "            nn.MaxPool2d(kernel_size=2, stride=2),\n",
    "            nn.Conv2d(16, 32, kernel_size=3, stride=1, padding=1),\n",
    "            nn.ReLU(),\n",
    "            nn.MaxPool2d(kernel_size=2, stride=2),\n",
    "        )\n",
    "        \n",
    "        self.classifier = nn.Sequential(\n",
    "            nn.Linear(32 * 8 * 8, 128),\n",
    "            nn.ReLU(),\n",
    "            nn.Linear(128, num_classes),\n",
    "        )\n",
    "    \n",
    "    def forward(self, x):\n",
    "        x = self.features(x)\n",
    "        x = x.view(x.size(0), -1)\n",
    "        x = self.classifier(x)\n",
    "        return x"
   ]
  },
  {
   "cell_type": "code",
   "execution_count": 3,
   "metadata": {},
   "outputs": [],
   "source": [
    "\n",
    "# Set the device (GPU or CPU)\n",
    "device = torch.device('cuda' if torch.cuda.is_available() else 'cpu')\n",
    "\n",
    "# Define hyperparameters\n",
    "num_epochs = 10\n",
    "batch_size = 100\n",
    "learning_rate = 0.001\n",
    "num_classes = 10\n",
    "\n",
    "# Load the CIFAR10 dataset\n",
    "transform = transforms.Compose([\n",
    "    transforms.ToTensor(),\n",
    "    transforms.Normalize(mean=[0.5, 0.5, 0.5], std=[0.5, 0.5, 0.5])\n",
    "])"
   ]
  },
  {
   "cell_type": "code",
   "execution_count": 4,
   "metadata": {},
   "outputs": [
    {
     "name": "stdout",
     "output_type": "stream",
     "text": [
      "Downloading https://www.cs.toronto.edu/~kriz/cifar-10-python.tar.gz to ./data\\cifar-10-python.tar.gz\n"
     ]
    },
    {
     "name": "stderr",
     "output_type": "stream",
     "text": [
      "100.0%\n"
     ]
    },
    {
     "name": "stdout",
     "output_type": "stream",
     "text": [
      "Extracting ./data\\cifar-10-python.tar.gz to ./data\n"
     ]
    }
   ],
   "source": [
    "\n",
    "train_dataset = torchvision.datasets.CIFAR10(root='./data', train=True, transform=transform, download=True)\n",
    "test_dataset = torchvision.datasets.CIFAR10(root='./data', train=False, transform=transform)\n",
    "\n",
    "train_loader = torch.utils.data.DataLoader(dataset=train_dataset, batch_size=batch_size, shuffle=True)\n",
    "test_loader = torch.utils.data.DataLoader(dataset=test_dataset, batch_size=batch_size, shuffle=False)\n",
    "\n",
    "# Initialize the CNN\n",
    "model = CNN(num_classes).to(device)\n",
    "\n",
    "# Define the loss function and optimizer\n",
    "criterion = nn.CrossEntropyLoss()\n",
    "optimizer = torch.optim.Adam(model.parameters(), lr=learning_rate)\n"
   ]
  },
  {
   "cell_type": "code",
   "execution_count": 5,
   "metadata": {},
   "outputs": [
    {
     "name": "stdout",
     "output_type": "stream",
     "text": [
      "Epoch [1/10], Step [100/500], Loss: 1.6472\n",
      "Epoch [1/10], Step [200/500], Loss: 1.5332\n",
      "Epoch [1/10], Step [300/500], Loss: 1.3188\n",
      "Epoch [1/10], Step [400/500], Loss: 1.0930\n",
      "Epoch [1/10], Step [500/500], Loss: 1.1795\n",
      "Epoch [2/10], Step [100/500], Loss: 1.1402\n",
      "Epoch [2/10], Step [200/500], Loss: 1.0532\n",
      "Epoch [2/10], Step [300/500], Loss: 1.0749\n",
      "Epoch [2/10], Step [400/500], Loss: 1.0299\n",
      "Epoch [2/10], Step [500/500], Loss: 0.7932\n",
      "Epoch [3/10], Step [100/500], Loss: 0.9160\n",
      "Epoch [3/10], Step [200/500], Loss: 0.8389\n",
      "Epoch [3/10], Step [300/500], Loss: 0.9102\n",
      "Epoch [3/10], Step [400/500], Loss: 1.2707\n",
      "Epoch [3/10], Step [500/500], Loss: 0.9676\n",
      "Epoch [4/10], Step [100/500], Loss: 0.7784\n",
      "Epoch [4/10], Step [200/500], Loss: 0.8785\n",
      "Epoch [4/10], Step [300/500], Loss: 0.8456\n",
      "Epoch [4/10], Step [400/500], Loss: 0.9161\n",
      "Epoch [4/10], Step [500/500], Loss: 0.9941\n",
      "Epoch [5/10], Step [100/500], Loss: 0.7717\n",
      "Epoch [5/10], Step [200/500], Loss: 0.7209\n",
      "Epoch [5/10], Step [300/500], Loss: 0.9457\n",
      "Epoch [5/10], Step [400/500], Loss: 0.7760\n",
      "Epoch [5/10], Step [500/500], Loss: 0.8083\n",
      "Epoch [6/10], Step [100/500], Loss: 0.6678\n",
      "Epoch [6/10], Step [200/500], Loss: 0.7479\n",
      "Epoch [6/10], Step [300/500], Loss: 0.7400\n",
      "Epoch [6/10], Step [400/500], Loss: 0.8628\n",
      "Epoch [6/10], Step [500/500], Loss: 0.8673\n",
      "Epoch [7/10], Step [100/500], Loss: 0.5249\n",
      "Epoch [7/10], Step [200/500], Loss: 0.6562\n",
      "Epoch [7/10], Step [300/500], Loss: 0.6895\n",
      "Epoch [7/10], Step [400/500], Loss: 0.7374\n",
      "Epoch [7/10], Step [500/500], Loss: 0.6461\n",
      "Epoch [8/10], Step [100/500], Loss: 0.5157\n",
      "Epoch [8/10], Step [200/500], Loss: 0.5166\n",
      "Epoch [8/10], Step [300/500], Loss: 0.6637\n",
      "Epoch [8/10], Step [400/500], Loss: 0.7209\n",
      "Epoch [8/10], Step [500/500], Loss: 0.6610\n",
      "Epoch [9/10], Step [100/500], Loss: 0.3246\n",
      "Epoch [9/10], Step [200/500], Loss: 0.4634\n",
      "Epoch [9/10], Step [300/500], Loss: 0.6024\n",
      "Epoch [9/10], Step [400/500], Loss: 0.4598\n",
      "Epoch [9/10], Step [500/500], Loss: 0.6130\n",
      "Epoch [10/10], Step [100/500], Loss: 0.4381\n",
      "Epoch [10/10], Step [200/500], Loss: 0.5404\n",
      "Epoch [10/10], Step [300/500], Loss: 0.4931\n",
      "Epoch [10/10], Step [400/500], Loss: 0.4020\n",
      "Epoch [10/10], Step [500/500], Loss: 0.4162\n"
     ]
    }
   ],
   "source": [
    "# Training loop\n",
    "total_step = len(train_loader)\n",
    "for epoch in range(num_epochs):\n",
    "    for i, (images, labels) in enumerate(train_loader):\n",
    "        images = images.to(device)\n",
    "        labels = labels.to(device)\n",
    "        \n",
    "        # Forward pass\n",
    "        outputs = model(images)\n",
    "        loss = criterion(outputs, labels)\n",
    "        \n",
    "        # Backward and optimize\n",
    "        optimizer.zero_grad()\n",
    "        loss.backward()\n",
    "        optimizer.step()\n",
    "        \n",
    "        if (i+1) % 100 == 0:\n",
    "            print(f'Epoch [{epoch+1}/{num_epochs}], Step [{i+1}/{total_step}], Loss: {loss.item():.4f}')\n",
    "\n"
   ]
  },
  {
   "cell_type": "code",
   "execution_count": 6,
   "metadata": {},
   "outputs": [
    {
     "name": "stdout",
     "output_type": "stream",
     "text": [
      "Test Accuracy of the model on the 10000 test images: 70.83%\n"
     ]
    }
   ],
   "source": [
    "# Testing loop\n",
    "model.eval()\n",
    "with torch.no_grad():\n",
    "    correct = 0\n",
    "    total = 0\n",
    "    for images, labels in test_loader:\n",
    "        images = images.to(device)\n",
    "        labels = labels.to(device)\n",
    "        \n",
    "        outputs = model(images)\n",
    "        _, predicted = torch.max(outputs.data, 1)\n",
    "        \n",
    "        total += labels.size(0)\n",
    "        correct += (predicted == labels).sum().item()\n",
    "    \n",
    "    print(f'Test Accuracy of the model on the {total} test images: {(correct / total) * 100:.2f}%')"
   ]
  },
  {
   "cell_type": "code",
   "execution_count": null,
   "metadata": {},
   "outputs": [],
   "source": []
  }
 ],
 "metadata": {
  "kernelspec": {
   "display_name": "Python 3",
   "language": "python",
   "name": "python3"
  },
  "language_info": {
   "codemirror_mode": {
    "name": "ipython",
    "version": 3
   },
   "file_extension": ".py",
   "mimetype": "text/x-python",
   "name": "python",
   "nbconvert_exporter": "python",
   "pygments_lexer": "ipython3",
   "version": "3.10.5"
  },
  "orig_nbformat": 4
 },
 "nbformat": 4,
 "nbformat_minor": 2
}
