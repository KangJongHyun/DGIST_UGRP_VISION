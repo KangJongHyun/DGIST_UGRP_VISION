{
 "cells": [
  {
   "cell_type": "code",
   "execution_count": 3,
   "id": "a488d6fe",
   "metadata": {},
   "outputs": [
    {
     "name": "stdout",
     "output_type": "stream",
     "text": [
      "Collecting simpleaudio\n",
      "  Downloading simpleaudio-1.0.4.tar.gz (2.0 MB)\n",
      "Building wheels for collected packages: simpleaudio\n",
      "  Building wheel for simpleaudio (setup.py): started\n",
      "  Building wheel for simpleaudio (setup.py): finished with status 'error'\n",
      "  Running setup.py clean for simpleaudio\n",
      "Failed to build simpleaudio\n",
      "Installing collected packages: simpleaudio\n",
      "    Running setup.py install for simpleaudio: started\n",
      "    Running setup.py install for simpleaudio: finished with status 'error'\n"
     ]
    },
    {
     "name": "stderr",
     "output_type": "stream",
     "text": [
      "  ERROR: Command errored out with exit status 1:\n",
      "   command: 'C:\\Users\\MarSS\\anaconda3\\python.exe' -u -c 'import io, os, sys, setuptools, tokenize; sys.argv[0] = '\"'\"'C:\\\\Users\\\\MarSS\\\\AppData\\\\Local\\\\Temp\\\\pip-install-g7rcpuy5\\\\simpleaudio_70462dea0c5f4cbea4e7c1f24a82b50c\\\\setup.py'\"'\"'; __file__='\"'\"'C:\\\\Users\\\\MarSS\\\\AppData\\\\Local\\\\Temp\\\\pip-install-g7rcpuy5\\\\simpleaudio_70462dea0c5f4cbea4e7c1f24a82b50c\\\\setup.py'\"'\"';f = getattr(tokenize, '\"'\"'open'\"'\"', open)(__file__) if os.path.exists(__file__) else io.StringIO('\"'\"'from setuptools import setup; setup()'\"'\"');code = f.read().replace('\"'\"'\\r\\n'\"'\"', '\"'\"'\\n'\"'\"');f.close();exec(compile(code, __file__, '\"'\"'exec'\"'\"'))' bdist_wheel -d 'C:\\Users\\MarSS\\AppData\\Local\\Temp\\pip-wheel-t572mqjb'\n",
      "       cwd: C:\\Users\\MarSS\\AppData\\Local\\Temp\\pip-install-g7rcpuy5\\simpleaudio_70462dea0c5f4cbea4e7c1f24a82b50c\\\n",
      "  Complete output (18 lines):\n",
      "  running bdist_wheel\n",
      "  running build\n",
      "  running build_py\n",
      "  creating build\n",
      "  creating build\\lib.win-amd64-3.9\n",
      "  creating build\\lib.win-amd64-3.9\\simpleaudio\n",
      "  copying simpleaudio\\__init__.py -> build\\lib.win-amd64-3.9\\simpleaudio\n",
      "  copying simpleaudio\\shiny.py -> build\\lib.win-amd64-3.9\\simpleaudio\n",
      "  copying simpleaudio\\functionchecks.py -> build\\lib.win-amd64-3.9\\simpleaudio\n",
      "  creating build\\lib.win-amd64-3.9\\simpleaudio\\test_audio\n",
      "  copying simpleaudio\\test_audio\\c.wav -> build\\lib.win-amd64-3.9\\simpleaudio\\test_audio\n",
      "  copying simpleaudio\\test_audio\\e.wav -> build\\lib.win-amd64-3.9\\simpleaudio\\test_audio\n",
      "  copying simpleaudio\\test_audio\\g.wav -> build\\lib.win-amd64-3.9\\simpleaudio\\test_audio\n",
      "  copying simpleaudio\\test_audio\\left_right.wav -> build\\lib.win-amd64-3.9\\simpleaudio\\test_audio\n",
      "  copying simpleaudio\\test_audio\\notes_2_16_44.wav -> build\\lib.win-amd64-3.9\\simpleaudio\\test_audio\n",
      "  running build_ext\n",
      "  building 'simpleaudio._simpleaudio' extension\n",
      "  error: Microsoft Visual C++ 14.0 or greater is required. Get it with \"Microsoft C++ Build Tools\": https://visualstudio.microsoft.com/visual-cpp-build-tools/\n",
      "  ----------------------------------------\n",
      "  ERROR: Failed building wheel for simpleaudio\n",
      "    ERROR: Command errored out with exit status 1:\n",
      "     command: 'C:\\Users\\MarSS\\anaconda3\\python.exe' -u -c 'import io, os, sys, setuptools, tokenize; sys.argv[0] = '\"'\"'C:\\\\Users\\\\MarSS\\\\AppData\\\\Local\\\\Temp\\\\pip-install-g7rcpuy5\\\\simpleaudio_70462dea0c5f4cbea4e7c1f24a82b50c\\\\setup.py'\"'\"'; __file__='\"'\"'C:\\\\Users\\\\MarSS\\\\AppData\\\\Local\\\\Temp\\\\pip-install-g7rcpuy5\\\\simpleaudio_70462dea0c5f4cbea4e7c1f24a82b50c\\\\setup.py'\"'\"';f = getattr(tokenize, '\"'\"'open'\"'\"', open)(__file__) if os.path.exists(__file__) else io.StringIO('\"'\"'from setuptools import setup; setup()'\"'\"');code = f.read().replace('\"'\"'\\r\\n'\"'\"', '\"'\"'\\n'\"'\"');f.close();exec(compile(code, __file__, '\"'\"'exec'\"'\"'))' install --record 'C:\\Users\\MarSS\\AppData\\Local\\Temp\\pip-record-te8my75m\\install-record.txt' --single-version-externally-managed --compile --install-headers 'C:\\Users\\MarSS\\anaconda3\\Include\\simpleaudio'\n",
      "         cwd: C:\\Users\\MarSS\\AppData\\Local\\Temp\\pip-install-g7rcpuy5\\simpleaudio_70462dea0c5f4cbea4e7c1f24a82b50c\\\n",
      "    Complete output (18 lines):\n",
      "    running install\n",
      "    running build\n",
      "    running build_py\n",
      "    creating build\n",
      "    creating build\\lib.win-amd64-3.9\n",
      "    creating build\\lib.win-amd64-3.9\\simpleaudio\n",
      "    copying simpleaudio\\__init__.py -> build\\lib.win-amd64-3.9\\simpleaudio\n",
      "    copying simpleaudio\\shiny.py -> build\\lib.win-amd64-3.9\\simpleaudio\n",
      "    copying simpleaudio\\functionchecks.py -> build\\lib.win-amd64-3.9\\simpleaudio\n",
      "    creating build\\lib.win-amd64-3.9\\simpleaudio\\test_audio\n",
      "    copying simpleaudio\\test_audio\\c.wav -> build\\lib.win-amd64-3.9\\simpleaudio\\test_audio\n",
      "    copying simpleaudio\\test_audio\\e.wav -> build\\lib.win-amd64-3.9\\simpleaudio\\test_audio\n",
      "    copying simpleaudio\\test_audio\\g.wav -> build\\lib.win-amd64-3.9\\simpleaudio\\test_audio\n",
      "    copying simpleaudio\\test_audio\\left_right.wav -> build\\lib.win-amd64-3.9\\simpleaudio\\test_audio\n",
      "    copying simpleaudio\\test_audio\\notes_2_16_44.wav -> build\\lib.win-amd64-3.9\\simpleaudio\\test_audio\n",
      "    running build_ext\n",
      "    building 'simpleaudio._simpleaudio' extension\n",
      "    error: Microsoft Visual C++ 14.0 or greater is required. Get it with \"Microsoft C++ Build Tools\": https://visualstudio.microsoft.com/visual-cpp-build-tools/\n",
      "    ----------------------------------------\n",
      "ERROR: Command errored out with exit status 1: 'C:\\Users\\MarSS\\anaconda3\\python.exe' -u -c 'import io, os, sys, setuptools, tokenize; sys.argv[0] = '\"'\"'C:\\\\Users\\\\MarSS\\\\AppData\\\\Local\\\\Temp\\\\pip-install-g7rcpuy5\\\\simpleaudio_70462dea0c5f4cbea4e7c1f24a82b50c\\\\setup.py'\"'\"'; __file__='\"'\"'C:\\\\Users\\\\MarSS\\\\AppData\\\\Local\\\\Temp\\\\pip-install-g7rcpuy5\\\\simpleaudio_70462dea0c5f4cbea4e7c1f24a82b50c\\\\setup.py'\"'\"';f = getattr(tokenize, '\"'\"'open'\"'\"', open)(__file__) if os.path.exists(__file__) else io.StringIO('\"'\"'from setuptools import setup; setup()'\"'\"');code = f.read().replace('\"'\"'\\r\\n'\"'\"', '\"'\"'\\n'\"'\"');f.close();exec(compile(code, __file__, '\"'\"'exec'\"'\"'))' install --record 'C:\\Users\\MarSS\\AppData\\Local\\Temp\\pip-record-te8my75m\\install-record.txt' --single-version-externally-managed --compile --install-headers 'C:\\Users\\MarSS\\anaconda3\\Include\\simpleaudio' Check the logs for full command output.\n"
     ]
    },
    {
     "ename": "ModuleNotFoundError",
     "evalue": "No module named 'simpleaudio'",
     "output_type": "error",
     "traceback": [
      "\u001b[1;31m---------------------------------------------------------------------------\u001b[0m",
      "\u001b[1;31mModuleNotFoundError\u001b[0m                       Traceback (most recent call last)",
      "\u001b[1;32m~\\AppData\\Local\\Temp/ipykernel_33676/4001689736.py\u001b[0m in \u001b[0;36m<module>\u001b[1;34m\u001b[0m\n\u001b[0;32m      2\u001b[0m \u001b[1;33m\u001b[0m\u001b[0m\n\u001b[0;32m      3\u001b[0m \u001b[1;32mimport\u001b[0m \u001b[0mnumpy\u001b[0m \u001b[1;32mas\u001b[0m \u001b[0mnp\u001b[0m\u001b[1;33m\u001b[0m\u001b[1;33m\u001b[0m\u001b[0m\n\u001b[1;32m----> 4\u001b[1;33m \u001b[1;32mimport\u001b[0m \u001b[0msimpleaudio\u001b[0m \u001b[1;32mas\u001b[0m \u001b[0msa\u001b[0m\u001b[1;33m\u001b[0m\u001b[1;33m\u001b[0m\u001b[0m\n\u001b[0m\u001b[0;32m      5\u001b[0m \u001b[1;32mimport\u001b[0m \u001b[0mmath\u001b[0m\u001b[1;33m\u001b[0m\u001b[1;33m\u001b[0m\u001b[0m\n\u001b[0;32m      6\u001b[0m \u001b[1;33m\u001b[0m\u001b[0m\n",
      "\u001b[1;31mModuleNotFoundError\u001b[0m: No module named 'simpleaudio'"
     ]
    }
   ],
   "source": [
    "!pip install simpleaudio\n",
    "\n",
    "import numpy as np\n",
    "import simpleaudio as sa\n",
    "import math\n",
    "\n",
    "# Choose a duration for the sound\n",
    "duration = 1.0  # seconds\n",
    "\n",
    "# Choose a frequency for the sound\n",
    "freq = 440  # Hz\n",
    "\n",
    "# Choose a sample rate\n",
    "sample_rate = 44100\n",
    "\n",
    "# Generate a time array\n",
    "t = np.linspace(0, duration, int(sample_rate * duration), False)\n",
    "\n",
    "# Generate a sinusoidal signal\n",
    "note = np.sin(freq * t * 2 * np.pi)\n",
    "\n",
    "# Ensure that highest value is in 16-bit range\n",
    "audio = note * (2**15 - 1) / np.max(np.abs(note))\n",
    "audio = audio.astype(np.int16)\n",
    "\n",
    "# Start playback\n",
    "play_obj = sa.play_buffer(audio, 1, 2, sample_rate)\n",
    "\n",
    "# Wait for playback to finish before exiting\n",
    "play_obj.wait_done()\n",
    "\n",
    "# Get the user's guess\n",
    "user_azimuth = input(\"Enter your guess for the azimuth (in degrees): \")\n",
    "user_distance = input(\"Enter your guess for the distance (in meters): \")\n",
    "\n",
    "# Print the user's guess\n",
    "print(f\"Your guess for azimuth: {user_azimuth}, for distance: {user_distance}\")\n"
   ]
  },
  {
   "cell_type": "code",
   "execution_count": null,
   "id": "ee7615e0",
   "metadata": {},
   "outputs": [],
   "source": []
  }
 ],
 "metadata": {
  "kernelspec": {
   "display_name": "Python 3 (ipykernel)",
   "language": "python",
   "name": "python3"
  },
  "language_info": {
   "codemirror_mode": {
    "name": "ipython",
    "version": 3
   },
   "file_extension": ".py",
   "mimetype": "text/x-python",
   "name": "python",
   "nbconvert_exporter": "python",
   "pygments_lexer": "ipython3",
   "version": "3.9.7"
  }
 },
 "nbformat": 4,
 "nbformat_minor": 5
}
